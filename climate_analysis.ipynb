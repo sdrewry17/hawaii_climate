{
 "cells": [
  {
   "cell_type": "markdown",
   "metadata": {},
   "source": [
    "You are now ready to use Python and SQLAlchemy to do basic climate analysis and data exploration on your new weather station tables. All of the following analysis should be completed using SQLAlchemy ORM queries, Pandas, and Matplotlib.\n",
    "\n",
    "\n",
    "* Create a Jupyter Notebook file called climate_analysis.ipynb and use it to complete your climate analysis and data exporation.\n",
    "* Choose a start date and end date for your trip. Make sure that your vacation range is approximately 3-15 days total.\n",
    "* Use SQLAlchemy create_engine to connect to your sqlite database.\n",
    "* Use SQLAlchemy automap_base() to reflect your tables into classes and save a reference to those classes called Station and Measurement."
   ]
  },
  {
   "cell_type": "code",
   "execution_count": null,
   "metadata": {
    "collapsed": true
   },
   "outputs": [],
   "source": [
    "#SQL Alchemy dependencies\n",
    "from sqlalchemy import create_engine, inspect, func\n",
    "from sqlalchemy.ext.automap import automap_base\n",
    "\n",
    "#Other SQLAlchemy dependencies\n",
    "from sqlalchemy import Column, Integer, String, Float, Date\n",
    "from sqlalchemy.orm import Session\n",
    "\n",
    "#dependencies\n",
    "import pandas as pd\n",
    "import numpy as np\n",
    "from datetime import datetime, date, time, timedelta\n",
    "import matplotlib.pyplot as plt\n",
    "import seaborn as sns\n",
    "plt.style.use('ggplot')\n",
    "%matplotlib inline"
   ]
  },
  {
   "cell_type": "code",
   "execution_count": null,
   "metadata": {
    "collapsed": true
   },
   "outputs": [],
   "source": [
    "#create an engine an instantiate a session to the sqlite database\n",
    "engine = create_engine('sqlite:///hawaii_db.sqlite')\n",
    "session = Session(engine)\n",
    "inspector = inspect(engine)"
   ]
  },
  {
   "cell_type": "code",
   "execution_count": null,
   "metadata": {
    "collapsed": true
   },
   "outputs": [],
   "source": [
    "#test connection to the database with a simple query\n",
    "engine.execute('SELECT * FROM measurement LIMIT 10').fetchall()"
   ]
  },
  {
   "cell_type": "code",
   "execution_count": null,
   "metadata": {
    "collapsed": true
   },
   "outputs": [],
   "source": [
    "#attempt to map classes from SQL database\n",
    "Base = automap_base()\n",
    "Base.prepare(engine, reflect=True)"
   ]
  },
  {
   "cell_type": "code",
   "execution_count": null,
   "metadata": {
    "collapsed": true
   },
   "outputs": [],
   "source": [
    "#Attempt is not successful\n",
    "Base.classes.keys()"
   ]
  },
  {
   "cell_type": "code",
   "execution_count": null,
   "metadata": {
    "collapsed": true
   },
   "outputs": [],
   "source": [
    "#Attempt is not successful\n",
    "Base.classes.items()"
   ]
  },
  {
   "cell_type": "markdown",
   "metadata": {},
   "source": [
    "## Precipitation Analysis\n",
    "\n",
    "\n",
    "* Design a query to retrieve the last 12 months of precipitation data.\n",
    "* Select only the date and prcp values.\n",
    "* Load the query results into a Pandas DataFrame and set the index to the date column.\n",
    "* Plot the results using the DataFrame plot method."
   ]
  },
  {
   "cell_type": "code",
   "execution_count": null,
   "metadata": {
    "collapsed": true
   },
   "outputs": [],
   "source": [
    "#Create a dataframe that holds all the precipitation measurements for the last 12 months of the dataset\n",
    "measurement_df = pd.read_sql('measurement', engine, index_col = 'id')\n",
    "measurement_df_TTM = measurement_df[measurement_df['date'] > \"2016-08-23\"]\n",
    "precipitation_df = measurement_df_TTM[['date', 'prcp']]"
   ]
  },
  {
   "cell_type": "code",
   "execution_count": null,
   "metadata": {
    "collapsed": true
   },
   "outputs": [],
   "source": [
    "#Graph precipitation over the past 12 months\n",
    "precipitation_df.plot(x = 'date', y = 'prcp', label = \"Precipitation\", figsize = (10,5), ylim = (0,7), title = \"Precipitation over the last 12 months\")"
   ]
  },
  {
   "cell_type": "markdown",
   "metadata": {},
   "source": [
    "## Station Analysis\n",
    "\n",
    "\n",
    "* Design a query to calculate the total number of stations.\n",
    "* Design a query to find the most active stations.\n",
    "* * List the stations and observation counts in descending order\n",
    "* * Which station has the highest number of observations?\n",
    "* Design a query to retrieve the last 12 months of temperature observation data (tobs).\n",
    "* * Filter by the station with the highest number of observations.\n",
    "* * Plot the results as a histogram with bins=12."
   ]
  },
  {
   "cell_type": "code",
   "execution_count": null,
   "metadata": {
    "collapsed": true
   },
   "outputs": [],
   "source": [
    "#find number of stations\n",
    "tot_stations = measurement_df['station'].nunique()\n",
    "print(f\"Total number of stations is {tot_stations}\")"
   ]
  },
  {
   "cell_type": "code",
   "execution_count": null,
   "metadata": {
    "collapsed": true
   },
   "outputs": [],
   "source": [
    "#find most active stations\n",
    "stations_df = measurement_df[['station', 'date']].groupby('station').count().sort_values(by = 'date', ascending = False)\n",
    "stations_df = stations_df.rename(columns = {'date': 'Observation_Count'})\n",
    "stations_df"
   ]
  },
  {
   "cell_type": "code",
   "execution_count": null,
   "metadata": {
    "collapsed": true
   },
   "outputs": [],
   "source": [
    "#filter to the most active station & plot a histogram to display that data\n",
    "most_obs_id = measurement_df_TTM[['date', 'station', 'tobs']].groupby('station').count().sort_values(by = \"tobs\", ascending = False).index[0]\n",
    "most_obs = measurement_df_TTM[measurement_df_TTM['station'] == most_obs_id]\n",
    "most_obs.plot(x = 'date', y = 'tobs', kind = \"hist\", bins = 12, title = \"temperature observation data (tobs)\")"
   ]
  },
  {
   "cell_type": "markdown",
   "metadata": {},
   "source": [
    "Write a function called calc_temps that will accept a start date and end date in the format %Y-%m-%d and return the minimum, average, and maximum temperatures for that range of dates.\n",
    "\n",
    "* Use the calc_temps function to calculate the min, avg, and max temperatures for your trip using the matching dates from the previous year (i.e. use \"2017-01-01\" if your trip start date was \"2018-01-01\")\n",
    "* Plot the min, avg, and max temperature from your previous query as a bar chart.\n",
    "* Use the average temperature as the bar height.\n",
    "* Use the peak-to-peak (tmax-tmin) value as the y error bar (yerr)."
   ]
  },
  {
   "cell_type": "code",
   "execution_count": null,
   "metadata": {
    "collapsed": true
   },
   "outputs": [],
   "source": [
    "#convert the date text to a datetime object\n",
    "measurement_df['date'] = measurement_df['date'].apply(pd.to_datetime)"
   ]
  },
  {
   "cell_type": "code",
   "execution_count": null,
   "metadata": {
    "collapsed": true
   },
   "outputs": [],
   "source": [
    "#find the latest date in the dataset\n",
    "latest = measurement_df['date'].max() + timedelta(365)"
   ]
  },
  {
   "cell_type": "code",
   "execution_count": null,
   "metadata": {
    "collapsed": true
   },
   "outputs": [],
   "source": [
    "#define the input variables\n",
    "start = input(\"Enter the start date for your trip?  (must be in the format YYYY-MM-DD)\")\n",
    "end = input(f\"Enter the end date for your trip?  (must be in the format YYYY-MM-DD and before {latest.strftime('%Y-%m-%d')})\")\n",
    "\n",
    "def calc_temps(start, end):\n",
    "    converted_start = datetime.strptime(start, '%Y-%m-%d')\n",
    "    comp_start = converted_start - timedelta(365)\n",
    "    converted_end = datetime.strptime(end, '%Y-%m-%d')\n",
    "    comp_end = converted_end - timedelta(365)\n",
    "    if converted_start < converted_end and converted_end < latest:\n",
    "        temps = measurement_df[(measurement_df['date'] <= comp_end) & (measurement_df['date'] >= comp_start)]\n",
    "        temps['temp'] = 'Temperature (F)'\n",
    "        temps_for_trip = temps[['tobs', 'temp']]\n",
    "        temps_for_trip = temps_for_trip.rename(columns = {'tobs': 'Temp Obs (f)'})\n",
    "    else:\n",
    "        print(\"You've entered incorrect trip dates.  Please try again.\")\n",
    "    return temps_for_trip, comp_start, comp_end\n",
    "         \n",
    "trip_temp_for_graph, comp_start, comp_end = calc_temps(start, end)"
   ]
  },
  {
   "cell_type": "code",
   "execution_count": null,
   "metadata": {
    "collapsed": true
   },
   "outputs": [],
   "source": [
    "sns.barplot(data = trip_temp_for_graph, ci = 'sd')\n",
    "plt.ylim(70, 82)\n",
    "plt.ylabel('Average Temperature (f)')\n",
    "plt.title(f\"Average Temperatures from {comp_start.strftime('%Y-%m-%d')} to {comp_end.strftime('%Y-%m-%d')}\")"
   ]
  }
 ],
 "metadata": {
  "kernelspec": {
   "display_name": "Python 3",
   "language": "python",
   "name": "python3"
  },
  "language_info": {
   "codemirror_mode": {
    "name": "ipython",
    "version": 3
   },
   "file_extension": ".py",
   "mimetype": "text/x-python",
   "name": "python",
   "nbconvert_exporter": "python",
   "pygments_lexer": "ipython3",
   "version": "3.6.3"
  }
 },
 "nbformat": 4,
 "nbformat_minor": 2
}
